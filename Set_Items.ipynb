{
  "metadata": {
    "language_info": {
      "codemirror_mode": {
        "name": "python",
        "version": 3
      },
      "file_extension": ".py",
      "mimetype": "text/x-python",
      "name": "python",
      "nbconvert_exporter": "python",
      "pygments_lexer": "ipython3",
      "version": "3.8"
    },
    "kernelspec": {
      "name": "python",
      "display_name": "Python (Pyodide)",
      "language": "python"
    }
  },
  "nbformat_minor": 4,
  "nbformat": 4,
  "cells": [
    {
      "cell_type": "code",
      "source": "#Copy\nSet1 = {1,2,3}\ncopy_set = Set1.copy()\nprint(copy_set)",
      "metadata": {
        "trusted": true
      },
      "execution_count": 7,
      "outputs": [
        {
          "name": "stdout",
          "text": "{1, 2, 3}\n",
          "output_type": "stream"
        }
      ]
    },
    {
      "cell_type": "code",
      "source": "#difference\nSet1 = {1,2,3}\nSet2 = {3,4,5}\ndifference =Set1.difference(Set2)\nprint(difference)",
      "metadata": {
        "trusted": true
      },
      "execution_count": 6,
      "outputs": [
        {
          "name": "stdout",
          "text": "{1, 2}\n",
          "output_type": "stream"
        }
      ]
    },
    {
      "cell_type": "code",
      "source": "#Intersection\nSet1 = {1,2,3}\nSet2 = {3,4,5}\nintersection = Set1.intersection(Set2)\nprint(intersection)",
      "metadata": {
        "trusted": true
      },
      "execution_count": 9,
      "outputs": [
        {
          "name": "stdout",
          "text": "{3}\n",
          "output_type": "stream"
        }
      ]
    },
    {
      "cell_type": "code",
      "source": "#symmetric_difference\nSet1={1,2,3}\nSet2={3,4,5}\nsymmetric_difference = Set1.symmetric_difference(Set2)\nprint(symmetric_difference)",
      "metadata": {
        "trusted": true
      },
      "execution_count": 10,
      "outputs": [
        {
          "name": "stdout",
          "text": "{1, 2, 4, 5}\n",
          "output_type": "stream"
        }
      ]
    },
    {
      "cell_type": "code",
      "source": "#Union\nSet1 = {1,2,3}\nSet2 = {3,4,5}\nunion_set = Set1.union(Set2)\nprint(union_set)\n",
      "metadata": {
        "trusted": true
      },
      "execution_count": 12,
      "outputs": [
        {
          "name": "stdout",
          "text": "{1, 2, 3, 4, 5}\n",
          "output_type": "stream"
        }
      ]
    },
    {
      "cell_type": "code",
      "source": "#issuperset\nSet1 = {1,2,3,4,5}\nSet2 = {3,4}\nis_superset = Set1.issuperset(Set2)\nprint(is_superset)",
      "metadata": {
        "trusted": true
      },
      "execution_count": 14,
      "outputs": [
        {
          "name": "stdout",
          "text": "True\n",
          "output_type": "stream"
        }
      ]
    },
    {
      "cell_type": "code",
      "source": "#Issubset\nSet1 = {1,2,3}\nSet2 = {1,2,3,4,5}\nis_subset = Set1.issubset(Set2)\nprint(is_subset)",
      "metadata": {
        "trusted": true
      },
      "execution_count": 15,
      "outputs": [
        {
          "name": "stdout",
          "text": "True\n",
          "output_type": "stream"
        }
      ]
    },
    {
      "cell_type": "code",
      "source": "#Isdisjoint\nSet1 = {1,2,3}\nSet2 = {4,5,6}\nis_disjoint = Set1.isdisjoint(Set2)\nprint(is_disjoint)",
      "metadata": {
        "trusted": true
      },
      "execution_count": 17,
      "outputs": [
        {
          "name": "stdout",
          "text": "True\n",
          "output_type": "stream"
        }
      ]
    },
    {
      "cell_type": "code",
      "source": "",
      "metadata": {},
      "execution_count": null,
      "outputs": []
    }
  ]
}