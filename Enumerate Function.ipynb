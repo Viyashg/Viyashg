{
 "cells": [
  {
   "cell_type": "code",
   "execution_count": 1,
   "id": "8cfe60b3",
   "metadata": {},
   "outputs": [
    {
     "name": "stdout",
     "output_type": "stream",
     "text": [
      "1 eat\n",
      "2 sleep\n",
      "3 repeat\n"
     ]
    }
   ],
   "source": [
    "# Using for loop:\n",
    "\n",
    "l1 = [\"eat\", \"sleep\", \"repeat\"]\n",
    "count = 1\n",
    "for i in l1:\n",
    "    print(count,i)\n",
    "    count+=1"
   ]
  },
  {
   "cell_type": "code",
   "execution_count": 3,
   "id": "0cef9b13",
   "metadata": {},
   "outputs": [
    {
     "data": {
      "text/plain": [
       "'#  Note:\\n____________\\n\\n# Syntax: enumerate(iterable, start=0)\\n\\n# terable: any object that supports iteration\\n\\n# Start: the index value from which the counter is to be started, by default it is 0'"
      ]
     },
     "execution_count": 3,
     "metadata": {},
     "output_type": "execute_result"
    }
   ],
   "source": [
    "\"\"\"#  Note:\n",
    "____________\n",
    "\n",
    "# Syntax: enumerate(iterable, start=0)\n",
    "\n",
    "# terable: any object that supports iteration\n",
    "\n",
    "# Start: the index value from which the counter is to be started, by default it is 0\"\"\""
   ]
  },
  {
   "cell_type": "code",
   "execution_count": 4,
   "id": "ada17916",
   "metadata": {},
   "outputs": [
    {
     "name": "stdout",
     "output_type": "stream",
     "text": [
      "1 eat\n",
      "2 sleep\n",
      "3 repeat\n"
     ]
    }
   ],
   "source": [
    "l1 = [\"eat\", \"sleep\", \"repeat\"]\n",
    "\n",
    "for count, i in enumerate(l1,1):\n",
    "    print(count,i)\n",
    "    count+=1"
   ]
  },
  {
   "cell_type": "code",
   "execution_count": 5,
   "id": "46ed1fc3",
   "metadata": {},
   "outputs": [
    {
     "name": "stdout",
     "output_type": "stream",
     "text": [
      "{2: 'a', 3: 'b', 4: 'c', 5: 'd'}\n"
     ]
    }
   ],
   "source": [
    "l1=['a','b','c','d']\n",
    "d1=dict(enumerate(l1,2))\n",
    "print (d1)\n"
   ]
  },
  {
   "cell_type": "code",
   "execution_count": null,
   "id": "52d1e653",
   "metadata": {},
   "outputs": [],
   "source": []
  }
 ],
 "metadata": {
  "kernelspec": {
   "display_name": "Python 3 (ipykernel)",
   "language": "python",
   "name": "python3"
  },
  "language_info": {
   "codemirror_mode": {
    "name": "ipython",
    "version": 3
   },
   "file_extension": ".py",
   "mimetype": "text/x-python",
   "name": "python",
   "nbconvert_exporter": "python",
   "pygments_lexer": "ipython3",
   "version": "3.9.7"
  }
 },
 "nbformat": 4,
 "nbformat_minor": 5
}
